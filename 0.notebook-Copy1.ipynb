{
 "cells": [
  {
   "cell_type": "markdown",
   "metadata": {},
   "source": [
    "[![](https://shop.googlemerchandisestore.com/store/20160512512/assets/themes/theme1_en/images/logo2.png)]"
   ]
  },
  {
   "cell_type": "markdown",
   "metadata": {},
   "source": [
    "# What am I predicting?\n",
    "\n",
    "We are predicting the natural log of the sum of all transactions per user in test_v2.csv for December 1st, 2018 to January 31st, 2019. \n",
    "The dataset does NOT contain data for December 1st 2018 to January 31st 2019. You must identify the unique fullVisitorIds in the provided test_v2.csv and make predictions for them for those unseen months."
   ]
  },
  {
   "cell_type": "markdown",
   "metadata": {},
   "source": [
    "# Import libraries"
   ]
  },
  {
   "cell_type": "code",
   "execution_count": 1,
   "metadata": {},
   "outputs": [],
   "source": [
    "# standard\n",
    "import pandas as pd\n",
    "import numpy as np\n",
    "\n",
    "# preprocessing\n",
    "from datetime import datetime, timedelta\n",
    "import json\n",
    "from pandas.io.json import json_normalize\n",
    "import os \n",
    "import warnings\n",
    "warnings.filterwarnings(\"ignore\")\n",
    "import gc\n",
    "gc.enable()\n",
    "from sklearn import preprocessing\n",
    "pd.options.display.max_columns = None \n",
    "import missingno as msno\n",
    "\n",
    "# modeling\n",
    "from scipy import stats\n",
    "import statsmodels.api as sms\n",
    "from sklearn.model_selection import train_test_split\n",
    "from sklearn.metrics import make_scorer, confusion_matrix, fbeta_score, classification_report \n",
    "from sklearn.ensemble import RandomForestClassifier\n",
    "from sklearn.svm import SVC\n",
    "from sklearn.neighbors import KNeighborsClassifier\n",
    "from sklearn.ensemble import AdaBoostClassifier\n",
    "from sklearn import tree\n",
    "import lightgbm as lgb\n",
    "from xgboost import XGBClassifier\n",
    "from sklearn.model_selection import GridSearchCV, RandomizedSearchCV\n",
    "import seaborn as sn\n",
    "\n",
    "# plotting\n",
    "import plotly\n",
    "from matplotlib import pyplot\n",
    "import matplotlib.pylab as plt\n",
    "import plotly.graph_objects as go\n",
    "# import plotly.graph_objs as go\n",
    "from plotly.offline import *"
   ]
  },
  {
   "cell_type": "markdown",
   "metadata": {},
   "source": [
    "# Import dataset\n",
    "\n",
    "[download the dataset](https://www.kaggle.com/c/ga-customer-revenue-prediction/data)\n",
    "\n",
    "There are two large data sets and one file in the correct format to upload the results.\n",
    "\n",
    "- train_v2.csv (23.67 GB) - contains user transactions from August 1st 2016 to April 30th 2018\n",
    "- test_v2.csv (7.09 GB) - contains user transactions from May 1st 2018 to October 15th 2018\n",
    "- sample_submission_v2.csv (6.75 MB) - contains all fullVisitorIds in test_v2.csv\n",
    "\n",
    "\n",
    "\n",
    "Many thanks to Changhao Lee for sharing his solution:\n",
    "https://www.kaggle.com/leechh/a-way-to-input-all-columns-include-hits\n",
    "\n",
    "I change the chunksize to be able to import the data on the MacBook."
   ]
  },
  {
   "cell_type": "code",
   "execution_count": null,
   "metadata": {},
   "outputs": [],
   "source": [
    "# import in small packages and transform json columns\n",
    "def todict(dic, key, value):\n",
    "    if key in dic:\n",
    "        dic[key].append(value)\n",
    "    else:\n",
    "        dic[key] = [value]\n",
    "    return dic\n",
    "\n",
    "\n",
    "def resolve_json(hitsdic, hits_json, key='NoneName'):\n",
    "    if type(hits_json) == list:\n",
    "        if len(hits_json) == 0:\n",
    "            pass\n",
    "        else:\n",
    "            for subjson in hits_json:\n",
    "                hitsdic = resolve_json(hitsdic, subjson)\n",
    "    elif type(hits_json) == dict:\n",
    "        for i in hits_json.keys():\n",
    "            hitsdic = resolve_json(hitsdic, hits_json[i],i)\n",
    "    else:\n",
    "        hitsdic = todict(hitsdic, key, hits_json)\n",
    "    return hitsdic\n",
    "\n",
    "\n",
    "def complex_replace(x):\n",
    "    dic = {}\n",
    "    return resolve_json(dic, json.loads(x.replace('\\'','\\\"'). \\\n",
    "                                        replace('TRUE','true'). \\\n",
    "                                        replace('True','true'). \\\n",
    "                                        replace('FALSE','false'). \\\n",
    "                                        replace('False','false'). \\\n",
    "                                        replace(', \\\"',', !&~'). \\\n",
    "                                        replace('\\\", ','!&~, '). \\\n",
    "                                        replace('\\\": ','!&~: '). \\\n",
    "                                        replace(': \\\"',': !&~'). \\\n",
    "                                        replace(' {\\\"',' {!&~'). \\\n",
    "                                        replace('\\\"}, ','!&~}, '). \\\n",
    "                                        replace('[{\\\"','[{!&~'). \\\n",
    "                                        replace('\\\"}]','!&~}]'). \\\n",
    "                                        replace('\\\"','_'). \\\n",
    "                                        replace('!&~','\\\"'). \\\n",
    "                                        encode('gbk','ignore'). \\\n",
    "                                        decode('utf-8','ignore'). \\\n",
    "                                        replace('\\\\','')))\n",
    "\n",
    "\n",
    "def replace(x):\n",
    "    return  json.loads(x)\n",
    "\n",
    "\n",
    "def load_df(csv_path, nrows=None, chunksize=10_000, percent=100):\n",
    "    n=1\n",
    "    df_list = []\n",
    "    feature = ['device', 'hits', 'customDimensions', 'geoNetwork', 'totals', 'trafficSource']\n",
    "    chunk = pd.read_csv(csv_path,\n",
    "                        nrows=nrows, \n",
    "                        chunksize=chunksize, \n",
    "                        dtype={'fullVisitorId': 'str'}) # Important!!\n",
    "    for subchunk in chunk:\n",
    "        for column in feature:\n",
    "            if column in ['customDimensions','hits']:\n",
    "                column_as_df = json_normalize(subchunk[column].apply(complex_replace))\n",
    "            else:\n",
    "                column_as_df = json_normalize(subchunk[column].apply(replace))\n",
    "            column_as_df.columns = [f'{column}_{subcolumn}' for subcolumn in column_as_df.columns]\n",
    "            subchunk.drop(column, axis=1, inplace=True)\n",
    "            subchunk = subchunk.reset_index(drop=True).merge(column_as_df,\n",
    "                                           right_index=True,\n",
    "                                           left_index=True)\n",
    "        n = n+1\n",
    "        df_list.append(subchunk.astype('str'))\n",
    "        del column_as_df, subchunk\n",
    "    return pd.concat(df_list, ignore_index=True, sort=True)"
   ]
  },
  {
   "cell_type": "code",
   "execution_count": null,
   "metadata": {},
   "outputs": [],
   "source": [
    "# import train data\n",
    "train = load_df('data/train_v2.csv',nrows=None, chunksize=10000)"
   ]
  },
  {
   "cell_type": "code",
   "execution_count": null,
   "metadata": {},
   "outputs": [],
   "source": [
    "# import test data\n",
    "test = load_df('data/test_v2.csv',nrows=None, chunksize=10000)"
   ]
  },
  {
   "cell_type": "code",
   "execution_count": null,
   "metadata": {},
   "outputs": [],
   "source": [
    "# the import takes a few hours, so better export the formatted data as csv\n",
    "train.to_csv('new_train.csv', index=False)\n",
    "test.to_csv('new_test.csv', index=False)"
   ]
  },
  {
   "cell_type": "markdown",
   "metadata": {},
   "source": [
    "**new file sizes**\n",
    "- new_train.csv (11.1 GB)\n",
    "- new_test.csv (3.2 GB)"
   ]
  },
  {
   "cell_type": "markdown",
   "metadata": {},
   "source": [
    "# Data cleaning"
   ]
  },
  {
   "cell_type": "code",
   "execution_count": null,
   "metadata": {},
   "outputs": [],
   "source": [
    "# i zipped the original files and restarted the Mac. \n",
    "# import new files, we need the 'fullVisitorId' as a string for uploading the solution on kaggle\n",
    "df_train = pd.read_csv(\"data/new_train.csv\", dtype = {\"fullVisitorId\" : \"str\"})\n",
    "df_test = pd.read_csv(\"data/new_test.csv\", dtype = {\"fullVisitorId\" : \"str\"})"
   ]
  },
  {
   "cell_type": "code",
   "execution_count": null,
   "metadata": {},
   "outputs": [],
   "source": [
    "# in total 2.1 million rows and 148 columns\n",
    "print('Train-Data:', df_train.shape) \n",
    "print('Test-Data: ',df_test.shape)"
   ]
  },
  {
   "cell_type": "markdown",
   "metadata": {},
   "source": [
    "## Explore columns one by one\n",
    "\n",
    "\n",
    "Detailed description of the variables: [Google Analytics](https://support.google.com/analytics/answer/3437719?hl=de)"
   ]
  },
  {
   "cell_type": "code",
   "execution_count": null,
   "metadata": {},
   "outputs": [],
   "source": [
    "# at first sight we see many missing values\n",
    "df_train.tail(1)"
   ]
  },
  {
   "cell_type": "markdown",
   "metadata": {},
   "source": [
    "### Identify columns with single values and drop these"
   ]
  },
  {
   "cell_type": "code",
   "execution_count": null,
   "metadata": {},
   "outputs": [],
   "source": [
    "# get columns with single value\n",
    "uniques = df_train.nunique(dropna=False).to_frame()\n",
    "uniques['name'] = uniques.index\n",
    "uniques = uniques.reset_index(drop=True)\n",
    "unique_one = uniques.loc[uniques[0] == 1]\n",
    "drop_list = list(unique_one.name)\n",
    "print('No. of useless columns: ',len(drop_list))"
   ]
  },
  {
   "cell_type": "code",
   "execution_count": null,
   "metadata": {},
   "outputs": [],
   "source": [
    "# drop 19 columns without any information\n",
    "df_train.drop(drop_list, axis=1, inplace=True)"
   ]
  },
  {
   "cell_type": "code",
   "execution_count": null,
   "metadata": {},
   "outputs": [],
   "source": [
    "# same on the test data\n",
    "uniques = df_test.nunique(dropna=False).to_frame()\n",
    "uniques['name'] = uniques.index\n",
    "uniques = uniques.reset_index(drop=True)\n",
    "unique_one = uniques.loc[uniques[0] == 1]\n",
    "drop_list = list(unique_one.name)\n",
    "df_test.drop(drop_list, axis=1, inplace=True)"
   ]
  },
  {
   "cell_type": "code",
   "execution_count": null,
   "metadata": {},
   "outputs": [],
   "source": [
    "df_test.shape"
   ]
  },
  {
   "cell_type": "code",
   "execution_count": null,
   "metadata": {},
   "outputs": [],
   "source": [
    "# visitId = visitStartTime\n",
    "corr = df_train.corr()\n",
    "plt.subplots(figsize=(20,15))\n",
    "sn.heatmap(corr, annot=True);"
   ]
  },
  {
   "cell_type": "code",
   "execution_count": null,
   "metadata": {},
   "outputs": [],
   "source": [
    "# Unique elements per column\n",
    "df_train.nunique()"
   ]
  },
  {
   "cell_type": "code",
   "execution_count": null,
   "metadata": {},
   "outputs": [],
   "source": [
    "df_train.hits_productBrand.unique()"
   ]
  },
  {
   "cell_type": "markdown",
   "metadata": {},
   "source": [
    "**let's make the data set more clearer**"
   ]
  },
  {
   "cell_type": "code",
   "execution_count": null,
   "metadata": {},
   "outputs": [],
   "source": [
    "# missing values, not informative or information in other columns\n",
    "columns2drop = ['customDimensions_index', 'device_isMobile','hits_dataSource', 'hits_currencyCode',\n",
    "        'hits_contentGroup4', 'hits_contentGroup5', 'hits_contentGroupUniqueViews1',\n",
    "        'hits_contentGroupUniqueViews2', 'hits_contentGroupUniqueViews3', 'hits_domLatencyMetricsSample',\n",
    "        'hits_hasSocialSourceReferral','hits_hitNumber', 'hits_hostname', 'hits_hour', 'hits_isClick', \n",
    "        'hits_isEntrance', 'hits_isExit', 'hits_isFatal', 'hits_isImpression', 'hits_isInteraction',\n",
    "        'hits_localProductPrice', 'hits_localProductRevenue', 'hits_localTransactionRevenue',\n",
    "        'hits_localTransactionShipping', 'hits_localTransactionTax', 'hits_minute', 'hits_option', \n",
    "        'hits_pageDownloadTime', 'hits_pageLoadSample', 'hits_pageLoadTime', 'hits_pagePath', \n",
    "        'hits_pagePathLevel1', 'hits_pagePathLevel2', 'hits_pagePathLevel3', 'hits_pagePathLevel4',\n",
    "        'hits_previousContentGroup1', 'hits_previousContentGroup2', 'hits_previousContentGroup3', \n",
    "        'hits_previousContentGroup4', 'hits_previousContentGroup5', 'hits_productBrand', \n",
    "        'hits_productCouponCode', 'hits_productListName', 'hits_productListPosition', 'hits_productVariant',\n",
    "        'hits_promoId', 'hits_promoPosition', 'hits_redirectionTime', 'hits_referer', 'hits_screenDepth', \n",
    "        'hits_screenName', 'hits_searchCategory', 'hits_serverConnectionTime', 'hits_serverResponseTime',\n",
    "        'hits_socialInteractionNetworkAction', 'hits_speedMetricsSample', 'hits_step', 'hits_time', \n",
    "        'hits_transactionId', 'hits_transactionTax', 'hits_type', 'hits_v2ProductCategory', 'hits_v2ProductName',\n",
    "        'customDimensions_value', 'hits_action_type', 'hits_contentGroup1', 'hits_contentGroup2', \n",
    "        'hits_contentGroup3', 'hits_affiliation', 'hits_domContentLoadedTime', 'hits_domInteractiveTime', \n",
    "        'hits_domainLookupTime', 'totals_totalTransactionRevenue', 'hits_eventAction', 'hits_eventCategory', \n",
    "        'hits_exitScreenName', 'hits_landingScreenName', 'hits_pageTitle', 'hits_productPrice', \n",
    "        'hits_productQuantity', 'hits_productRevenue', 'hits_productSKU', 'hits_promoCreative', \n",
    "        'hits_promoIsView', 'hits_promoName', 'hits_searchKeyword', 'hits_socialNetwork', 'hits_transactionRevenue',\n",
    "        'hits_transactionShipping', 'totals_totalTransactionRevenue', 'visitId', \n",
    "        'trafficSource_referralPath', 'trafficSource_adwordsClickInfo.isVideoAd', 'trafficSource_adwordsClickInfo.gclId',\n",
    "        'totals_timeOnSite', 'hits_eventLabel']\n",
    "len(columns2drop)"
   ]
  },
  {
   "cell_type": "code",
   "execution_count": null,
   "metadata": {},
   "outputs": [],
   "source": [
    "# drop 96 columns wich are not necessary for prediction, some of them may used for EDA.\n",
    "# 'totals_totalTransactionRevenue' is the correct column but in this case we have to use 'totals_transactionRevenue'\n",
    "df_train.drop(columns2drop, axis=1, inplace=True)\n",
    "df_test.drop(columns2drop, axis=1, inplace=True)"
   ]
  },
  {
   "cell_type": "code",
   "execution_count": null,
   "metadata": {},
   "outputs": [],
   "source": [
    "# 34 to 33 columns\n",
    "df_train.shape, df_test.shape"
   ]
  },
  {
   "cell_type": "code",
   "execution_count": null,
   "metadata": {},
   "outputs": [],
   "source": [
    "# where is the difference?\n",
    "train_c = df_train.columns\n",
    "test_c = df_test.columns\n",
    "train_c.symmetric_difference(test_c)"
   ]
  },
  {
   "cell_type": "code",
   "execution_count": null,
   "metadata": {},
   "outputs": [],
   "source": [
    "df_train.trafficSource_campaignCode.unique()"
   ]
  },
  {
   "cell_type": "code",
   "execution_count": null,
   "metadata": {},
   "outputs": [],
   "source": [
    "# no need for 'trafficSource_campaignCode'\n",
    "df_train.drop('trafficSource_campaignCode', axis=1, inplace=True)"
   ]
  },
  {
   "cell_type": "code",
   "execution_count": null,
   "metadata": {},
   "outputs": [],
   "source": [
    "# now the data set looks workable\n",
    "df_train.info()"
   ]
  },
  {
   "cell_type": "code",
   "execution_count": null,
   "metadata": {},
   "outputs": [],
   "source": [
    "# Store the data again\n",
    "df_train.to_csv('train_red.csv', index=False)\n",
    "df_test.to_csv('test_red.csv', index=False)"
   ]
  },
  {
   "cell_type": "code",
   "execution_count": 2,
   "metadata": {},
   "outputs": [],
   "source": [
    "# Import\n",
    "df_train = pd.read_csv(\"train_red.csv\", dtype = {\"fullVisitorId\" : \"str\", \"hits_transactionCoupon\" : \"str\"})\n",
    "df_test = pd.read_csv(\"test_red.csv\", dtype = {\"fullVisitorId\" : \"str\", \"hits_transactionCoupon\" : \"str\"})"
   ]
  },
  {
   "cell_type": "markdown",
   "metadata": {},
   "source": [
    "## Convert columns"
   ]
  },
  {
   "cell_type": "code",
   "execution_count": 3,
   "metadata": {},
   "outputs": [],
   "source": [
    "# Convert column containing '.' names for easier processing\n",
    "df_train.rename(columns = {'trafficSource_adwordsClickInfo.slot':'trafficSource_adwordsClickInfo_slot',\n",
    "                    'trafficSource_adwordsClickInfo.page':'trafficSource_adwordsClickInfo_page', \n",
    "                    'trafficSource_adwordsClickInfo.adNetworkType':'trafficSource_adwordsClickInfo_adNetworkType',\n",
    "                    }, inplace = True)\n",
    "df_test.rename(columns = {'trafficSource_adwordsClickInfo.slot':'trafficSource_adwordsClickInfo_slot',\n",
    "                    'trafficSource_adwordsClickInfo.page':'trafficSource_adwordsClickInfo_page', \n",
    "                    'trafficSource_adwordsClickInfo.adNetworkType':'trafficSource_adwordsClickInfo_adNetworkType',\n",
    "                    }, inplace = True)"
   ]
  },
  {
   "cell_type": "code",
   "execution_count": 4,
   "metadata": {},
   "outputs": [],
   "source": [
    "# Convert datetime\n",
    "df_train[\"date\"] = pd.to_datetime(df_train[\"date\"], infer_datetime_format=True, format=\"%Y%m%d\")\n",
    "df_train['visitStartTime'] = pd.to_datetime(df_test['visitStartTime'], unit='s')\n",
    "df_test[\"date\"] = pd.to_datetime(df_test[\"date\"], infer_datetime_format=True, format=\"%Y%m%d\")\n",
    "df_test['visitStartTime'] = pd.to_datetime(df_test['visitStartTime'], unit='s')"
   ]
  },
  {
   "cell_type": "code",
   "execution_count": 5,
   "metadata": {},
   "outputs": [],
   "source": [
    "# 'hits_promoIsClick'\n",
    "df_train['hits_promoClick'] = df_train.hits_promoIsClick.str.contains('True')\n",
    "df_train.fillna({'hits_promoClick': False}, inplace=True)\n",
    "df_test['hits_promoClick'] = df_test.hits_promoIsClick.str.contains('True')\n",
    "df_test.fillna({'hits_promoClick': False}, inplace=True)"
   ]
  },
  {
   "cell_type": "markdown",
   "metadata": {},
   "source": [
    "## Dealing with missing values"
   ]
  },
  {
   "cell_type": "code",
   "execution_count": 6,
   "metadata": {},
   "outputs": [
    {
     "data": {
      "text/html": [
       "<div>\n",
       "<style scoped>\n",
       "    .dataframe tbody tr th:only-of-type {\n",
       "        vertical-align: middle;\n",
       "    }\n",
       "\n",
       "    .dataframe tbody tr th {\n",
       "        vertical-align: top;\n",
       "    }\n",
       "\n",
       "    .dataframe thead th {\n",
       "        text-align: right;\n",
       "    }\n",
       "</style>\n",
       "<table border=\"1\" class=\"dataframe\">\n",
       "  <thead>\n",
       "    <tr style=\"text-align: right;\">\n",
       "      <th></th>\n",
       "      <th>Total</th>\n",
       "      <th>Percent</th>\n",
       "    </tr>\n",
       "  </thead>\n",
       "  <tbody>\n",
       "    <tr>\n",
       "      <th>hits_transactionCoupon</th>\n",
       "      <td>1708095</td>\n",
       "      <td>0.999858</td>\n",
       "    </tr>\n",
       "    <tr>\n",
       "      <th>totals_transactionRevenue</th>\n",
       "      <td>1689823</td>\n",
       "      <td>0.989163</td>\n",
       "    </tr>\n",
       "    <tr>\n",
       "      <th>totals_transactions</th>\n",
       "      <td>1689778</td>\n",
       "      <td>0.989136</td>\n",
       "    </tr>\n",
       "    <tr>\n",
       "      <th>hits_promoIsClick</th>\n",
       "      <td>1669615</td>\n",
       "      <td>0.977334</td>\n",
       "    </tr>\n",
       "    <tr>\n",
       "      <th>trafficSource_adContent</th>\n",
       "      <td>1643600</td>\n",
       "      <td>0.962105</td>\n",
       "    </tr>\n",
       "    <tr>\n",
       "      <th>trafficSource_adwordsClickInfo_adNetworkType</th>\n",
       "      <td>1633063</td>\n",
       "      <td>0.955937</td>\n",
       "    </tr>\n",
       "    <tr>\n",
       "      <th>trafficSource_adwordsClickInfo_page</th>\n",
       "      <td>1633063</td>\n",
       "      <td>0.955937</td>\n",
       "    </tr>\n",
       "    <tr>\n",
       "      <th>trafficSource_adwordsClickInfo_slot</th>\n",
       "      <td>1633063</td>\n",
       "      <td>0.955937</td>\n",
       "    </tr>\n",
       "    <tr>\n",
       "      <th>visitStartTime</th>\n",
       "      <td>1306748</td>\n",
       "      <td>0.764924</td>\n",
       "    </tr>\n",
       "    <tr>\n",
       "      <th>trafficSource_isTrueDirect</th>\n",
       "      <td>1173819</td>\n",
       "      <td>0.687112</td>\n",
       "    </tr>\n",
       "    <tr>\n",
       "      <th>trafficSource_keyword</th>\n",
       "      <td>1052780</td>\n",
       "      <td>0.616260</td>\n",
       "    </tr>\n",
       "    <tr>\n",
       "      <th>totals_bounces</th>\n",
       "      <td>836759</td>\n",
       "      <td>0.489809</td>\n",
       "    </tr>\n",
       "    <tr>\n",
       "      <th>totals_sessionQualityDim</th>\n",
       "      <td>835274</td>\n",
       "      <td>0.488940</td>\n",
       "    </tr>\n",
       "    <tr>\n",
       "      <th>totals_newVisits</th>\n",
       "      <td>400907</td>\n",
       "      <td>0.234677</td>\n",
       "    </tr>\n",
       "    <tr>\n",
       "      <th>totals_pageviews</th>\n",
       "      <td>239</td>\n",
       "      <td>0.000140</td>\n",
       "    </tr>\n",
       "    <tr>\n",
       "      <th>fullVisitorId</th>\n",
       "      <td>0</td>\n",
       "      <td>0.000000</td>\n",
       "    </tr>\n",
       "    <tr>\n",
       "      <th>geoNetwork_city</th>\n",
       "      <td>0</td>\n",
       "      <td>0.000000</td>\n",
       "    </tr>\n",
       "  </tbody>\n",
       "</table>\n",
       "</div>"
      ],
      "text/plain": [
       "                                                Total   Percent\n",
       "hits_transactionCoupon                        1708095  0.999858\n",
       "totals_transactionRevenue                     1689823  0.989163\n",
       "totals_transactions                           1689778  0.989136\n",
       "hits_promoIsClick                             1669615  0.977334\n",
       "trafficSource_adContent                       1643600  0.962105\n",
       "trafficSource_adwordsClickInfo_adNetworkType  1633063  0.955937\n",
       "trafficSource_adwordsClickInfo_page           1633063  0.955937\n",
       "trafficSource_adwordsClickInfo_slot           1633063  0.955937\n",
       "visitStartTime                                1306748  0.764924\n",
       "trafficSource_isTrueDirect                    1173819  0.687112\n",
       "trafficSource_keyword                         1052780  0.616260\n",
       "totals_bounces                                 836759  0.489809\n",
       "totals_sessionQualityDim                       835274  0.488940\n",
       "totals_newVisits                               400907  0.234677\n",
       "totals_pageviews                                  239  0.000140\n",
       "fullVisitorId                                       0  0.000000\n",
       "geoNetwork_city                                     0  0.000000"
      ]
     },
     "execution_count": 6,
     "metadata": {},
     "output_type": "execute_result"
    }
   ],
   "source": [
    "# Let's see the ratio of missing values\n",
    "def missing_data(df):\n",
    "    total = df.isnull().sum().sort_values(ascending=False)\n",
    "    percent = total / len(df) \n",
    "    return pd.concat([total,percent], axis=1, keys =['Total', 'Percent'])\n",
    "missing = missing_data(df_train)\n",
    "missing.head(17)"
   ]
  },
  {
   "cell_type": "code",
   "execution_count": 7,
   "metadata": {},
   "outputs": [
    {
     "data": {
      "image/png": "[encoded data removed]",
      "text/plain": [
       "<Figure size 1224x720 with 1 Axes>"
      ]
     },
     "metadata": {
      "needs_background": "light"
     },
     "output_type": "display_data"
    }
   ],
   "source": [
    "# How are the columns correlated?\n",
    "msno.dendrogram(df_train, orientation='right', fontsize=12, figsize=(17,10));"
   ]
  },
  {
   "cell_type": "code",
   "execution_count": 8,
   "metadata": {},
   "outputs": [],
   "source": [
    "# after some more explorations, filling missing values\n",
    "df_train.fillna({'totals_transactionRevenue': 0, 'totals_transactions': 0, 'trafficSource_adwordsClickInfo_page': 0,\n",
    "          'totals_bounces': 0, 'totals_newVisits': 0, 'hits_promoIsClick': False, \n",
    "          'trafficSource_isTrueDirect': False, 'hits_transactionCoupon': 'None', \n",
    "          'trafficSource_adContent': 'None', 'trafficSource_adwordsClickInfo_adNetworkType': 'None',\n",
    "          'trafficSource_adwordsClickInfo_slot': 'None', 'trafficSource_keyword': '(not provided)',\n",
    "          'totals_sessionQualityDim': 1}, inplace=True)\n",
    "\n",
    "df_test.fillna({'totals_transactionRevenue': 0, 'totals_transactions': 0, 'trafficSource_adwordsClickInfo_page': 0,\n",
    "          'totals_bounces': 0, 'totals_newVisits': 0, 'hits_promoIsClick': False, \n",
    "          'trafficSource_isTrueDirect': False, 'hits_transactionCoupon': 'None', \n",
    "          'trafficSource_adContent': 'None', 'trafficSource_adwordsClickInfo_adNetworkType': 'None',\n",
    "          'trafficSource_adwordsClickInfo_slot': 'None', 'trafficSource_keyword': '(not provided)',\n",
    "          'totals_sessionQualityDim': 1}, inplace=True)"
   ]
  },
  {
   "cell_type": "code",
   "execution_count": 9,
   "metadata": {},
   "outputs": [],
   "source": [
    "# 'hits_transactionCoupon'\n",
    "df_train['hits_transactionCoupon'] = df_train['hits_transactionCoupon'].str[4:]\n",
    "df_train['hits_Coupon'] = df_train['hits_transactionCoupon'].apply(lambda x: x.split(',')[0])\n",
    "df_train['hits_Coupon'] = df_train['hits_Coupon'].str.replace(\"'\", '')\n",
    "df_train['hits_Coupon'] = df_train['hits_Coupon'].str.replace('\"', '')\n",
    "df_train['hits_Coupon'] = df_train['hits_Coupon'].str.replace('ne', '')\n",
    "df_test['hits_transactionCoupon'] = df_test['hits_transactionCoupon'].str[4:]\n",
    "df_test['hits_Coupon'] = df_test['hits_transactionCoupon'].apply(lambda x: x.split(',')[0])\n",
    "df_test['hits_Coupon'] = df_test['hits_Coupon'].str.replace(\"'\", '')\n",
    "df_test['hits_Coupon'] = df_test['hits_Coupon'].str.replace('\"', '')\n",
    "df_test['hits_Coupon'] = df_test['hits_Coupon'].str.replace('ne', '')"
   ]
  },
  {
   "cell_type": "code",
   "execution_count": 10,
   "metadata": {},
   "outputs": [],
   "source": [
    "# drop columns\n",
    "df_train.drop(['hits_transactionCoupon', 'hits_promoIsClick'], axis=1, inplace=True)\n",
    "df_test.drop(['hits_transactionCoupon', 'hits_promoIsClick'], axis=1, inplace=True)"
   ]
  },
  {
   "cell_type": "code",
   "execution_count": 11,
   "metadata": {},
   "outputs": [],
   "source": [
    "# using 'hits' to fill pageviews\n",
    "df_train.loc[df_train['totals_pageviews'].isnull(),'totals_pageviews'] = df_train['totals_hits']\n",
    "df_test.loc[df_test['totals_pageviews'].isnull(),'totals_pageviews'] = df_test['totals_hits']"
   ]
  },
  {
   "cell_type": "markdown",
   "metadata": {},
   "source": [
    "## Label encoding categorical variables"
   ]
  },
  {
   "cell_type": "code",
   "execution_count": 12,
   "metadata": {},
   "outputs": [],
   "source": [
    "# categorical variables\n",
    "categorical = [\"channelGrouping\", \"device_browser\", \"device_deviceCategory\", \"device_operatingSystem\", \n",
    "            \"geoNetwork_city\", \"geoNetwork_continent\", \"geoNetwork_country\", \"geoNetwork_metro\",\n",
    "            \"hits_Coupon\", \"geoNetwork_networkDomain\", \"geoNetwork_region\", \"geoNetwork_subContinent\", \n",
    "            \"trafficSource_adContent\", \"trafficSource_campaign\",\n",
    "            \"trafficSource_adwordsClickInfo_slot\", \"trafficSource_keyword\", \"trafficSource_medium\", \n",
    "            \"trafficSource_source\", \"trafficSource_adwordsClickInfo_adNetworkType\"]"
   ]
  },
  {
   "cell_type": "code",
   "execution_count": 13,
   "metadata": {},
   "outputs": [
    {
     "name": "stdout",
     "output_type": "stream",
     "text": [
      "channelGrouping\n",
      "device_browser\n",
      "device_deviceCategory\n",
      "device_operatingSystem\n",
      "geoNetwork_city\n",
      "geoNetwork_continent\n",
      "geoNetwork_country\n",
      "geoNetwork_metro\n",
      "hits_Coupon\n",
      "geoNetwork_networkDomain\n",
      "geoNetwork_region\n",
      "geoNetwork_subContinent\n",
      "trafficSource_adContent\n",
      "trafficSource_campaign\n",
      "trafficSource_adwordsClickInfo_slot\n",
      "trafficSource_keyword\n",
      "trafficSource_medium\n",
      "trafficSource_source\n",
      "trafficSource_adwordsClickInfo_adNetworkType\n"
     ]
    }
   ],
   "source": [
    "# encodeing train data\n",
    "for col in categorical:\n",
    "    print(col)\n",
    "    lbl = preprocessing.LabelEncoder()\n",
    "    lbl.fit(list(df_train[col].values.astype('str')))\n",
    "    df_train[col] = lbl.transform(list(df_train[col].values.astype('str')))"
   ]
  },
  {
   "cell_type": "code",
   "execution_count": 14,
   "metadata": {},
   "outputs": [
    {
     "name": "stdout",
     "output_type": "stream",
     "text": [
      "channelGrouping\n",
      "device_browser\n",
      "device_deviceCategory\n",
      "device_operatingSystem\n",
      "geoNetwork_city\n",
      "geoNetwork_continent\n",
      "geoNetwork_country\n",
      "geoNetwork_metro\n",
      "hits_Coupon\n",
      "geoNetwork_networkDomain\n",
      "geoNetwork_region\n",
      "geoNetwork_subContinent\n",
      "trafficSource_adContent\n",
      "trafficSource_campaign\n",
      "trafficSource_adwordsClickInfo_slot\n",
      "trafficSource_keyword\n",
      "trafficSource_medium\n",
      "trafficSource_source\n",
      "trafficSource_adwordsClickInfo_adNetworkType\n"
     ]
    }
   ],
   "source": [
    "# encodeing test data\n",
    "for col in categorical:\n",
    "    print(col)\n",
    "    lbl = preprocessing.LabelEncoder()\n",
    "    lbl.fit(list(df_test[col].values.astype('str')))\n",
    "    df_test[col] = lbl.transform(list(df_test[col].values.astype('str')))"
   ]
  },
  {
   "cell_type": "code",
   "execution_count": 15,
   "metadata": {},
   "outputs": [],
   "source": [
    "# Export as csv again...\n",
    "df_train.to_csv('train_processed.csv', index=False)\n",
    "df_test.to_csv('test_processed.csv', index=False)"
   ]
  },
  {
   "cell_type": "markdown",
   "metadata": {},
   "source": [
    "# Aggregating by 'fullVisitorId' "
   ]
  },
  {
   "cell_type": "code",
   "execution_count": 16,
   "metadata": {},
   "outputs": [],
   "source": [
    "# We need test Data to create y\n",
    "df = pd.concat([df_train, df_test], axis=0).reset_index(drop=True)"
   ]
  },
  {
   "cell_type": "code",
   "execution_count": 17,
   "metadata": {},
   "outputs": [
    {
     "data": {
      "text/plain": [
       "Timestamp('2016-08-01 00:00:00')"
      ]
     },
     "execution_count": 17,
     "metadata": {},
     "output_type": "execute_result"
    }
   ],
   "source": [
    "df.date.min()"
   ]
  },
  {
   "cell_type": "code",
   "execution_count": 18,
   "metadata": {},
   "outputs": [
    {
     "data": {
      "text/plain": [
       "Timestamp('2018-10-15 00:00:00')"
      ]
     },
     "execution_count": 18,
     "metadata": {},
     "output_type": "execute_result"
    }
   ],
   "source": [
    "df.date.max()"
   ]
  },
  {
   "cell_type": "code",
   "execution_count": 19,
   "metadata": {},
   "outputs": [],
   "source": [
    "#Generate a frame with featurizations aggregating all the transactions for that customer\n",
    "#inspired by: https://github.com/HuanZhang999/GoogleAnalyticsCustomerRevenuePrediction/blob/master/1-%20create_train.ipynb\n",
    "\n",
    "def getTimeFramewithFeatures(df, k=1):\n",
    "    #Splitting the dataframe in the time  window of 168 days. 168 was the number of days in test data. \n",
    "    \n",
    "    #Filter the rows from dataframe having dates between given window\n",
    "    #K determines the frame number\n",
    "    # Training dataset has dates from - August 1st 2016 to April 30th 2018.\n",
    "    #for Frame-1(k=1), dates from August 1st 2016 till January 15, 2017. (Added 168 to starting date)\n",
    "    #for Frame-2(k=2), dates from January 16, 2017 till July 2, 2017. (Added 168 to starting date)\n",
    "    #for Frame-3(k=3), dates from July 3, 2017 till December 17, 2017. (Added 168 to starting date)\n",
    "    #for Frame-3(k=4), dates from December 18, 2017 till June 4, 2018. (Added 168 to starting date)\n",
    "    #December 1st 2018 to January 31st 2019\n",
    "    tf = df.loc[(df['date'] >= min(df['date']) + timedelta(days=168*(k-1))) \n",
    "              & (df['date'] < min(df['date']) + timedelta(days=168*k))]\n",
    "    \n",
    "    #Fetch the visitor id for the users those returned in 62 days window after 46 days from the frame-end date.\n",
    "    #This was done replicate the real world scenario where we have given data till October 15th 2018 and need to\n",
    "    #determine if user returns after 46 days (December 1st 2018) and in the  starting December 1st 2018 and in the \n",
    "    #time-frame of 62 days from December 1st 2018 to January 31st 2019\n",
    "    tf_fvid = set(df.loc[(df['date'] >= min(df['date']) + timedelta(days=168*k + 46 )) \n",
    "                       & (df['date'] < min(df['date']) + timedelta(days=168*k + 46 + 62))]['fullVisitorId'])\n",
    "\n",
    "    tf_returned = tf[tf['fullVisitorId'].isin(tf_fvid)]\n",
    "    \n",
    "    #Creating test data set with future timeframe of 62 days after 46 days from end date of current timeframe\n",
    "    #For e.g. - for Frame-1(k=1),August 1st 2016 till January 15, 2017. (168 days), \n",
    "    # test-set would start after 46 days from end date of current frame (January 15, 2017) :- March 2, 2017\n",
    "    #and would be for 62 days :- (March 2, 2017 till May 3, 2017)\n",
    "    tf_tst = df[df['fullVisitorId'].isin(set(tf_returned['fullVisitorId'])) \n",
    "             & (df['date'] >= min(df['date']) + timedelta(days=168*k + 46))\n",
    "             & (df['date'] < min(df['date']) + timedelta(days=168*k + 46 + 62))]\n",
    "    \n",
    "    #Calculating target variable totals_transaction_revenue per customer from the test-set calculated above.                       \n",
    "    tf_target = tf_tst.groupby('fullVisitorId')[['totals_transactionRevenue']].sum().apply(np.log1p, axis=1).reset_index()\n",
    "   \n",
    "    #Setting returned flag to 1, for customers present in test set\n",
    "    tf_target['ret'] = 1\n",
    "    tf_target.rename(columns={'totals_transactionRevenue': 'target'}, inplace=True)\n",
    "    \n",
    "    #Creating dataframe for the users not present in test-set created above. This set of users signify those which haven't returned\n",
    "    #for shopping in test window.\n",
    "    tf_nonret = pd.DataFrame()\n",
    "    tf_nonret['fullVisitorId'] = list(set(tf['fullVisitorId']) - tf_fvid)\n",
    "    \n",
    "    #Setting target variable and returned flag to 0, as customer hasn't returned for shopping in given future time window.\n",
    "    tf_nonret['target'] = 0\n",
    "    tf_nonret['ret'] = 0\n",
    "    \n",
    "    #Creating test-set combining values for both the customers those who returned as well as those who haven't.\n",
    "    tf_target = pd.concat([tf_target, tf_nonret], axis=0).reset_index(drop=True)\n",
    "    \n",
    "    #Below max and min date would be used to generate some date based featurizations\n",
    "    tf_maxdate = max(tf['date'])\n",
    "    tf_mindate = min(tf['date'])\n",
    "    #for the users present in current frame of train-set, calculating all the features.\n",
    "    tf = tf.groupby('fullVisitorId').agg({\n",
    "            'geoNetwork_networkDomain': {'networkDomain': lambda x: x.dropna().max()}, \n",
    "            'geoNetwork_city': {'city': lambda x: x.dropna().max()},  \n",
    "            'device_operatingSystem': {'operatingSystem': lambda x: x.dropna().max()},  \n",
    "            'geoNetwork_metro': {'metro': lambda x: x.dropna().max()},  \n",
    "            'geoNetwork_region': {'region': lambda x: x.dropna().max()},   \n",
    "            'channelGrouping': {'channelGrouping': lambda x: x.dropna().max()},  \n",
    "            'geoNetwork_country': {'country': lambda x: x.dropna().max()},    \n",
    "            'trafficSource_source': {'source': lambda x: x.dropna().max()},   \n",
    "            'trafficSource_medium': {'medium': lambda x: x.dropna().max()},   \n",
    "            'trafficSource_keyword': {'keyword': lambda x: x.dropna().max()}, \n",
    "            'device_browser':  {'browser': lambda x: x.dropna().max()},  \n",
    "            'device_deviceCategory': {'deviceCategory': lambda x: x.dropna().max()}, \n",
    "            'geoNetwork_continent': {'continent': lambda x: x.dropna().max()},      \n",
    "            'totals_pageviews': {'pageviews_sum': lambda x: x.dropna().sum(),     \n",
    "                                 'pageviews_min': lambda x: x.dropna().min(),     \n",
    "                                 'pageviews_max': lambda x: x.dropna().max(),     \n",
    "                                 'pageviews_mean': lambda x: x.dropna().mean()},  \n",
    "            'totals_hits': {'hits_sum': lambda x: x.dropna().sum(),     \n",
    "                            'hits_min': lambda x: x.dropna().min(),     \n",
    "                            'hits_max': lambda x: x.dropna().max(),     \n",
    "                            'hits_mean': lambda x: x.dropna().mean()},  \n",
    "            'visitStartTime': {'visitStartTime_counts': lambda x: x.dropna().count()}, \n",
    "            'totals_sessionQualityDim': {'sessionQualityDim': lambda x: x.dropna().max()}, \n",
    "            'visitNumber': {'visitNumber_max' : lambda x: x.dropna().max()}, \n",
    "            'totals_transactionRevenue':  {'totalTransactionRevenue_sum':  lambda x:x.dropna().sum()}, \n",
    "            'totals_transactions' : {'transactions' : lambda x:x.dropna().sum()},\n",
    "            'date': {'first_ses_from_the_period_start': lambda x: x.dropna().min() - tf_mindate, #first session after current tr.\n",
    "                     'last_ses_from_the_period_end': lambda x: tf_maxdate - x.dropna().max(), #Last shopping session for customer before the period end date for current frame.\n",
    "                     'interval_dates': lambda x: x.dropna().max() - x.dropna().min(),  #interval calculated as the latest date on which customer visited - oldest date on which they visited.\n",
    "                     'unqiue_date_num': lambda x: len(set(x.dropna())) }, #Unique number of dates customer visited.           \n",
    "                    })\n",
    "\n",
    "    #Drop the parent level of features. for e.g. drop geoNetwork.networkDomain and keep only 'networkDomain' which stores max value from the group. \n",
    "    tf.columns = tf.columns.droplevel() \n",
    "    #merging the two dataframe tf having features and tf_target having target variables.\n",
    "    tf = pd.merge(tf, tf_target, left_on='fullVisitorId', right_on='fullVisitorId') \n",
    "    return tf"
   ]
  },
  {
   "cell_type": "code",
   "execution_count": 20,
   "metadata": {},
   "outputs": [
    {
     "name": "stdout",
     "output_type": "stream",
     "text": [
      "CPU times: user 50min 17s, sys: 34.3 s, total: 50min 52s\n",
      "Wall time: 50min 45s\n"
     ]
    }
   ],
   "source": [
    "# get the last \n",
    "# Time Frame 4\n",
    "%time tr4 = getTimeFramewithFeatures(df, k=4)"
   ]
  },
  {
   "cell_type": "code",
   "execution_count": 21,
   "metadata": {},
   "outputs": [
    {
     "data": {
      "text/html": [
       "<div>\n",
       "<style scoped>\n",
       "    .dataframe tbody tr th:only-of-type {\n",
       "        vertical-align: middle;\n",
       "    }\n",
       "\n",
       "    .dataframe tbody tr th {\n",
       "        vertical-align: top;\n",
       "    }\n",
       "\n",
       "    .dataframe thead th {\n",
       "        text-align: right;\n",
       "    }\n",
       "</style>\n",
       "<table border=\"1\" class=\"dataframe\">\n",
       "  <thead>\n",
       "    <tr style=\"text-align: right;\">\n",
       "      <th></th>\n",
       "      <th>fullVisitorId</th>\n",
       "      <th>networkDomain</th>\n",
       "      <th>city</th>\n",
       "      <th>operatingSystem</th>\n",
       "      <th>metro</th>\n",
       "      <th>region</th>\n",
       "      <th>channelGrouping</th>\n",
       "      <th>country</th>\n",
       "      <th>source</th>\n",
       "      <th>medium</th>\n",
       "      <th>keyword</th>\n",
       "      <th>browser</th>\n",
       "      <th>deviceCategory</th>\n",
       "      <th>continent</th>\n",
       "      <th>pageviews_sum</th>\n",
       "      <th>pageviews_min</th>\n",
       "      <th>pageviews_max</th>\n",
       "      <th>pageviews_mean</th>\n",
       "      <th>hits_sum</th>\n",
       "      <th>hits_min</th>\n",
       "      <th>hits_max</th>\n",
       "      <th>hits_mean</th>\n",
       "      <th>visitStartTime_counts</th>\n",
       "      <th>sessionQualityDim</th>\n",
       "      <th>visitNumber_max</th>\n",
       "      <th>totalTransactionRevenue_sum</th>\n",
       "      <th>transactions</th>\n",
       "      <th>first_ses_from_the_period_start</th>\n",
       "      <th>last_ses_from_the_period_end</th>\n",
       "      <th>interval_dates</th>\n",
       "      <th>unqiue_date_num</th>\n",
       "      <th>target</th>\n",
       "      <th>ret</th>\n",
       "    </tr>\n",
       "  </thead>\n",
       "  <tbody>\n",
       "    <tr>\n",
       "      <th>0</th>\n",
       "      <td>0000053049821714864</td>\n",
       "      <td>29081</td>\n",
       "      <td>955</td>\n",
       "      <td>23</td>\n",
       "      <td>122</td>\n",
       "      <td>482</td>\n",
       "      <td>1</td>\n",
       "      <td>9</td>\n",
       "      <td>3</td>\n",
       "      <td>2</td>\n",
       "      <td>7</td>\n",
       "      <td>73</td>\n",
       "      <td>1</td>\n",
       "      <td>2</td>\n",
       "      <td>1.0</td>\n",
       "      <td>1.0</td>\n",
       "      <td>1.0</td>\n",
       "      <td>1.0</td>\n",
       "      <td>1</td>\n",
       "      <td>1</td>\n",
       "      <td>1</td>\n",
       "      <td>1.0</td>\n",
       "      <td>0</td>\n",
       "      <td>1.0</td>\n",
       "      <td>1</td>\n",
       "      <td>0.0</td>\n",
       "      <td>0.0</td>\n",
       "      <td>41 days</td>\n",
       "      <td>126 days</td>\n",
       "      <td>0 days</td>\n",
       "      <td>1</td>\n",
       "      <td>0.0</td>\n",
       "      <td>0</td>\n",
       "    </tr>\n",
       "    <tr>\n",
       "      <th>1</th>\n",
       "      <td>0000059488412965267</td>\n",
       "      <td>0</td>\n",
       "      <td>182</td>\n",
       "      <td>1</td>\n",
       "      <td>19</td>\n",
       "      <td>187</td>\n",
       "      <td>2</td>\n",
       "      <td>218</td>\n",
       "      <td>0</td>\n",
       "      <td>0</td>\n",
       "      <td>7</td>\n",
       "      <td>35</td>\n",
       "      <td>1</td>\n",
       "      <td>2</td>\n",
       "      <td>3.0</td>\n",
       "      <td>1.0</td>\n",
       "      <td>1.0</td>\n",
       "      <td>1.0</td>\n",
       "      <td>3</td>\n",
       "      <td>1</td>\n",
       "      <td>1</td>\n",
       "      <td>1.0</td>\n",
       "      <td>1</td>\n",
       "      <td>1.0</td>\n",
       "      <td>3</td>\n",
       "      <td>0.0</td>\n",
       "      <td>0.0</td>\n",
       "      <td>65 days</td>\n",
       "      <td>96 days</td>\n",
       "      <td>6 days</td>\n",
       "      <td>2</td>\n",
       "      <td>0.0</td>\n",
       "      <td>0</td>\n",
       "    </tr>\n",
       "  </tbody>\n",
       "</table>\n",
       "</div>"
      ],
      "text/plain": [
       "         fullVisitorId  networkDomain  city  operatingSystem  metro  region  \\\n",
       "0  0000053049821714864          29081   955               23    122     482   \n",
       "1  0000059488412965267              0   182                1     19     187   \n",
       "\n",
       "   channelGrouping  country  source  medium  keyword  browser  deviceCategory  \\\n",
       "0                1        9       3       2        7       73               1   \n",
       "1                2      218       0       0        7       35               1   \n",
       "\n",
       "   continent  pageviews_sum  pageviews_min  pageviews_max  pageviews_mean  \\\n",
       "0          2            1.0            1.0            1.0             1.0   \n",
       "1          2            3.0            1.0            1.0             1.0   \n",
       "\n",
       "   hits_sum  hits_min  hits_max  hits_mean  visitStartTime_counts  \\\n",
       "0         1         1         1        1.0                      0   \n",
       "1         3         1         1        1.0                      1   \n",
       "\n",
       "   sessionQualityDim  visitNumber_max  totalTransactionRevenue_sum  \\\n",
       "0                1.0                1                          0.0   \n",
       "1                1.0                3                          0.0   \n",
       "\n",
       "   transactions first_ses_from_the_period_start last_ses_from_the_period_end  \\\n",
       "0           0.0                         41 days                     126 days   \n",
       "1           0.0                         65 days                      96 days   \n",
       "\n",
       "  interval_dates  unqiue_date_num  target  ret  \n",
       "0         0 days                1     0.0    0  \n",
       "1         6 days                2     0.0    0  "
      ]
     },
     "execution_count": 21,
     "metadata": {},
     "output_type": "execute_result"
    }
   ],
   "source": [
    "tr4.head(2)"
   ]
  },
  {
   "cell_type": "code",
   "execution_count": 22,
   "metadata": {},
   "outputs": [
    {
     "data": {
      "text/plain": [
       "Timestamp('2018-10-15 00:00:00')"
      ]
     },
     "execution_count": 22,
     "metadata": {},
     "output_type": "execute_result"
    }
   ],
   "source": [
    "df_test.date.max()"
   ]
  },
  {
   "cell_type": "code",
   "execution_count": 23,
   "metadata": {},
   "outputs": [],
   "source": [
    "### aggregate the test-set analog train-set, without using future data\n",
    "tf_maxdate = max(df_test['date'])  \n",
    "tf_mindate = min(df_test['date'])    "
   ]
  },
  {
   "cell_type": "code",
   "execution_count": 24,
   "metadata": {},
   "outputs": [],
   "source": [
    "tr5 = df_test.groupby('fullVisitorId').agg({\n",
    "            'geoNetwork_networkDomain': {'networkDomain': lambda x: x.dropna().max()},\n",
    "            'geoNetwork_city': {'city': lambda x: x.dropna().max()},  \n",
    "            'device_operatingSystem': {'operatingSystem': lambda x: x.dropna().max()}, \n",
    "            'geoNetwork_metro': {'metro': lambda x: x.dropna().max()},  \n",
    "            'geoNetwork_region': {'region': lambda x: x.dropna().max()},   \n",
    "            'channelGrouping': {'channelGrouping': lambda x: x.dropna().max()},  \n",
    "            'geoNetwork_country': {'country': lambda x: x.dropna().max()},    \n",
    "            'trafficSource_source': {'source': lambda x: x.dropna().max()},   \n",
    "            'trafficSource_medium': {'medium': lambda x: x.dropna().max()},   \n",
    "            'trafficSource_keyword': {'keyword': lambda x: x.dropna().max()}, \n",
    "            'device_browser':  {'browser': lambda x: x.dropna().max()},\n",
    "            'device_deviceCategory': {'deviceCategory': lambda x: x.dropna().max()}, \n",
    "            'geoNetwork_continent': {'continent': lambda x: x.dropna().max()},      \n",
    "            'totals_pageviews': {'pageviews_sum': lambda x: x.dropna().sum(),     \n",
    "                                 'pageviews_min': lambda x: x.dropna().min(),     \n",
    "                                 'pageviews_max': lambda x: x.dropna().max(),     \n",
    "                                 'pageviews_mean': lambda x: x.dropna().mean()},  \n",
    "            'totals_hits': {'hits_sum': lambda x: x.dropna().sum(),     \n",
    "                            'hits_min': lambda x: x.dropna().min(),     \n",
    "                            'hits_max': lambda x: x.dropna().max(),     \n",
    "                            'hits_mean': lambda x: x.dropna().mean()},  \n",
    "            'visitStartTime': {'visitStartTime_counts': lambda x: x.dropna().count()}, \n",
    "            'totals_sessionQualityDim': {'sessionQualityDim': lambda x: x.dropna().max()}, \n",
    "            'visitNumber': {'visitNumber_max' : lambda x: x.dropna().max()},  \n",
    "            'totals_transactionRevenue':  {'totalTransactionRevenue_sum':  lambda x:x.dropna().sum()}, \n",
    "            'totals_transactions' : {'transactions' : lambda x:x.dropna().sum()}, \n",
    "            'date': {'first_ses_from_the_period_start': lambda x: x.dropna().min() - tf_mindate, \n",
    "                     'last_ses_from_the_period_end': lambda x: tf_maxdate - x.dropna().max(), \n",
    "                     'interval_dates': lambda x: x.dropna().max() - x.dropna().min(),  \n",
    "                     'unqiue_date_num': lambda x: len(set(x.dropna())) },        \n",
    "                    })\n",
    "\n",
    "tr5.columns = tr5.columns.droplevel() "
   ]
  },
  {
   "cell_type": "code",
   "execution_count": 25,
   "metadata": {},
   "outputs": [],
   "source": [
    "tr5.reset_index(level=0, inplace=True)"
   ]
  },
  {
   "cell_type": "code",
   "execution_count": 26,
   "metadata": {},
   "outputs": [
    {
     "data": {
      "text/plain": [
       "296530"
      ]
     },
     "execution_count": 26,
     "metadata": {},
     "output_type": "execute_result"
    }
   ],
   "source": [
    "len(tr5)"
   ]
  },
  {
   "cell_type": "markdown",
   "metadata": {},
   "source": [
    "# Creating X and y"
   ]
  },
  {
   "cell_type": "code",
   "execution_count": 27,
   "metadata": {},
   "outputs": [],
   "source": [
    "tr4['ret_buyer'] = tr4['target'] > 0"
   ]
  },
  {
   "cell_type": "code",
   "execution_count": 28,
   "metadata": {},
   "outputs": [],
   "source": [
    "y_class = tr4.pop(\"ret_buyer\")\n",
    "y_reg = tr4.pop('target')"
   ]
  },
  {
   "cell_type": "code",
   "execution_count": 29,
   "metadata": {},
   "outputs": [],
   "source": [
    "X = tr4"
   ]
  },
  {
   "cell_type": "code",
   "execution_count": 30,
   "metadata": {},
   "outputs": [],
   "source": [
    "X['first_ses_from_the_period_start'] = X['first_ses_from_the_period_start'].dt.days.astype('int')\n",
    "X['last_ses_from_the_period_end'] = X['last_ses_from_the_period_end'].dt.days.astype('int')\n",
    "X['interval_dates'] = X['interval_dates'].dt.days.astype('int')\n",
    "ret = X.pop('ret')"
   ]
  },
  {
   "cell_type": "code",
   "execution_count": 31,
   "metadata": {},
   "outputs": [],
   "source": [
    "# Transform ID in to float and store it for submission\n",
    "ID_X = X.pop('fullVisitorId')\n",
    "X['ID'] = ID_X.astype('float')"
   ]
  },
  {
   "cell_type": "markdown",
   "metadata": {},
   "source": [
    "# Train-/Test-Split classification"
   ]
  },
  {
   "cell_type": "code",
   "execution_count": 32,
   "metadata": {},
   "outputs": [],
   "source": [
    "X_train, X_test, y_train, y_test = train_test_split(X,y_class,random_state=15)"
   ]
  },
  {
   "cell_type": "markdown",
   "metadata": {},
   "source": [
    "# Modelling classification"
   ]
  },
  {
   "cell_type": "markdown",
   "metadata": {},
   "source": [
    "## Baseline model"
   ]
  },
  {
   "cell_type": "code",
   "execution_count": 33,
   "metadata": {},
   "outputs": [],
   "source": [
    "# baseline model all zero\n",
    "y_baseline = np.zeros(len(y_test))"
   ]
  },
  {
   "cell_type": "code",
   "execution_count": 34,
   "metadata": {},
   "outputs": [
    {
     "data": {
      "text/plain": [
       "array([[91526,     0],\n",
       "       [   25,     0]])"
      ]
     },
     "execution_count": 34,
     "metadata": {},
     "output_type": "execute_result"
    }
   ],
   "source": [
    "# just a few positivs to predict\n",
    "confusion_matrix(y_test,y_baseline)\n",
    "# TN, FP\n",
    "# FN, TP"
   ]
  },
  {
   "cell_type": "code",
   "execution_count": 35,
   "metadata": {},
   "outputs": [
    {
     "name": "stdout",
     "output_type": "stream",
     "text": [
      "              precision    recall  f1-score   support\n",
      "\n",
      "       False       1.00      1.00      1.00     91526\n",
      "        True       0.00      0.00      0.00        25\n",
      "\n",
      "    accuracy                           1.00     91551\n",
      "   macro avg       0.50      0.50      0.50     91551\n",
      "weighted avg       1.00      1.00      1.00     91551\n",
      "\n"
     ]
    }
   ],
   "source": [
    "print(classification_report(y_test,y_baseline))"
   ]
  },
  {
   "cell_type": "markdown",
   "metadata": {},
   "source": [
    "## LGBM"
   ]
  },
  {
   "cell_type": "code",
   "execution_count": 36,
   "metadata": {},
   "outputs": [
    {
     "data": {
      "text/plain": [
       "LGBMClassifier(boosting_type='gbdt', class_weight=None, colsample_bytree=1.0,\n",
       "               importance_type='split', learning_rate=0.1, max_depth=-1,\n",
       "               metric='binary_logloss', min_child_samples=20,\n",
       "               min_child_weight=0.001, min_split_gain=0.0, n_estimators=100,\n",
       "               n_jobs=-1, num_leaves=31, objective='binary', random_state=None,\n",
       "               reg_alpha=0.0, reg_lambda=0.0, silent=True, subsample=1.0,\n",
       "               subsample_for_bin=200000, subsample_freq=0)"
      ]
     },
     "execution_count": 36,
     "metadata": {},
     "output_type": "execute_result"
    }
   ],
   "source": [
    "model_lgb = lgb.LGBMClassifier(objective = 'binary',\n",
    "                               boosting_type = 'gbdt', \n",
    "                               metric = 'binary_logloss')\n",
    "model_lgb.fit(X_train, y_train)"
   ]
  },
  {
   "cell_type": "code",
   "execution_count": 37,
   "metadata": {},
   "outputs": [
    {
     "data": {
      "text/plain": [
       "33"
      ]
     },
     "execution_count": 37,
     "metadata": {},
     "output_type": "execute_result"
    }
   ],
   "source": [
    "y_pred = model_lgb.predict(X_test)\n",
    "y_pred.sum()"
   ]
  },
  {
   "cell_type": "code",
   "execution_count": 38,
   "metadata": {},
   "outputs": [
    {
     "data": {
      "text/plain": [
       "array([[91493,    33],\n",
       "       [   25,     0]])"
      ]
     },
     "execution_count": 38,
     "metadata": {},
     "output_type": "execute_result"
    }
   ],
   "source": [
    "confusion_matrix(y_test,y_pred)"
   ]
  },
  {
   "cell_type": "markdown",
   "metadata": {},
   "source": [
    "### LGBM Random Search"
   ]
  },
  {
   "cell_type": "code",
   "execution_count": 53,
   "metadata": {},
   "outputs": [
    {
     "data": {
      "text/plain": [
       "RandomizedSearchCV(cv=3, error_score=nan,\n",
       "                   estimator=LGBMClassifier(boosting_type='gbdt',\n",
       "                                            class_weight=None,\n",
       "                                            colsample_bytree=1.0,\n",
       "                                            importance_type='split',\n",
       "                                            learning_rate=0.1, max_depth=-1,\n",
       "                                            min_child_samples=20,\n",
       "                                            min_child_weight=0.001,\n",
       "                                            min_split_gain=0.0,\n",
       "                                            n_estimators=100, n_jobs=-1,\n",
       "                                            num_leaves=31, objective=None,\n",
       "                                            random_state=None, reg_alpha=0.0,\n",
       "                                            reg_lambda=0.0, sile...\n",
       "                                        'colsample_bytree': [0.8, 1],\n",
       "                                        'learning_rate': [0.04],\n",
       "                                        'max_leaves': [270, 300, 330],\n",
       "                                        'metric': ['binary_logloss'],\n",
       "                                        'min_child_samples': [20],\n",
       "                                        'n_estimators': [222, 225],\n",
       "                                        'num_leaves': [15, 16, 18],\n",
       "                                        'objective': ['binary'],\n",
       "                                        'reg_alpha': [1], 'reg_lambda': [1],\n",
       "                                        'subsample': [0.7, 1]},\n",
       "                   pre_dispatch='2*n_jobs', random_state=None, refit=True,\n",
       "                   return_train_score=False, scoring=None, verbose=0)"
      ]
     },
     "execution_count": 53,
     "metadata": {},
     "output_type": "execute_result"
    }
   ],
   "source": [
    "# Create parameters\n",
    "gridParams = {\n",
    "    'learning_rate': [0.04],    \n",
    "    'n_estimators': [222,225],           \n",
    "    'num_leaves': [15,16,18],           \n",
    "    'boosting_type' : ['gbdt'],\n",
    "    'reg_alpha' : [1],                    \n",
    "    'reg_lambda' : [1],                   \n",
    "    'objective' : ['binary'],              \n",
    "    'metric' : ['binary_logloss'],        \n",
    "    'colsample_bytree' : [0.8, 1],     #select x% of features before training each tree\n",
    "    'subsample' : [0.7, 1],             #randomly select part of data without resampling\n",
    "    'max_leaves': [270,300,330],           \n",
    "    'min_child_samples' : [20]            \n",
    "     }\n",
    "#Define LightGBM Classifier model\n",
    "model_lgb_gs = lgb.LGBMClassifier()\n",
    "#RandomizedSearchCV to hypertune the parameters\n",
    "randCV = RandomizedSearchCV(model_lgb_gs, gridParams,\n",
    "                    cv=3,\n",
    "                    n_jobs=1)\n",
    "\n",
    "# Fit model\n",
    "randCV.fit(X_train, y_train)"
   ]
  },
  {
   "cell_type": "code",
   "execution_count": 54,
   "metadata": {},
   "outputs": [
    {
     "data": {
      "text/plain": [
       "LGBMClassifier(boosting_type='gbdt', class_weight=None, colsample_bytree=0.8,\n",
       "               importance_type='split', learning_rate=0.04, max_depth=-1,\n",
       "               max_leaves=300, metric='binary_logloss', min_child_samples=20,\n",
       "               min_child_weight=0.001, min_split_gain=0.0, n_estimators=222,\n",
       "               n_jobs=-1, num_leaves=15, objective='binary', random_state=None,\n",
       "               reg_alpha=1, reg_lambda=1, silent=True, subsample=1,\n",
       "               subsample_for_bin=200000, subsample_freq=0)"
      ]
     },
     "execution_count": 54,
     "metadata": {},
     "output_type": "execute_result"
    }
   ],
   "source": [
    "randCV.best_estimator_"
   ]
  },
  {
   "cell_type": "code",
   "execution_count": 55,
   "metadata": {},
   "outputs": [],
   "source": [
    "best_model_lgb = randCV.best_estimator_"
   ]
  },
  {
   "cell_type": "code",
   "execution_count": 56,
   "metadata": {},
   "outputs": [
    {
     "data": {
      "text/plain": [
       "3"
      ]
     },
     "execution_count": 56,
     "metadata": {},
     "output_type": "execute_result"
    }
   ],
   "source": [
    "y_pred = best_model_lgb.predict(X_test)\n",
    "y_pred.sum()"
   ]
  },
  {
   "cell_type": "code",
   "execution_count": 57,
   "metadata": {},
   "outputs": [
    {
     "data": {
      "text/plain": [
       "array([[91523,     3],\n",
       "       [   25,     0]])"
      ]
     },
     "execution_count": 57,
     "metadata": {},
     "output_type": "execute_result"
    }
   ],
   "source": [
    "confusion_matrix(y_test,y_pred)"
   ]
  },
  {
   "cell_type": "markdown",
   "metadata": {},
   "source": [
    "# Use clsssification model on Test-Data"
   ]
  },
  {
   "cell_type": "code",
   "execution_count": 44,
   "metadata": {},
   "outputs": [],
   "source": [
    "X_test_sub = tr5"
   ]
  },
  {
   "cell_type": "code",
   "execution_count": 45,
   "metadata": {},
   "outputs": [],
   "source": [
    "X_test_sub['first_ses_from_the_period_start'] = X_test_sub['first_ses_from_the_period_start'].dt.days.astype('int')\n",
    "X_test_sub['last_ses_from_the_period_end'] = X_test_sub['last_ses_from_the_period_end'].dt.days.astype('int')\n",
    "X_test_sub['interval_dates'] = X_test_sub['interval_dates'].dt.days.astype('int')"
   ]
  },
  {
   "cell_type": "code",
   "execution_count": 46,
   "metadata": {},
   "outputs": [],
   "source": [
    "ID_X_sub = X_test_sub.pop('fullVisitorId')\n",
    "X_test_sub['ID'] = ID_X_sub.astype('float')"
   ]
  },
  {
   "cell_type": "markdown",
   "metadata": {},
   "source": [
    "### Run LGBM"
   ]
  },
  {
   "cell_type": "code",
   "execution_count": 58,
   "metadata": {},
   "outputs": [
    {
     "data": {
      "text/plain": [
       "3"
      ]
     },
     "execution_count": 58,
     "metadata": {},
     "output_type": "execute_result"
    }
   ],
   "source": [
    "y_pred_sub = best_model_lgb.predict(X_test_sub)\n",
    "y_pred_sub.sum()"
   ]
  },
  {
   "cell_type": "markdown",
   "metadata": {},
   "source": [
    "## Create submission file"
   ]
  },
  {
   "cell_type": "code",
   "execution_count": 59,
   "metadata": {},
   "outputs": [],
   "source": [
    "kaggle = pd.DataFrame()\n",
    "kaggle['fullVisitorId'] = ID_X_sub"
   ]
  },
  {
   "cell_type": "code",
   "execution_count": 60,
   "metadata": {},
   "outputs": [],
   "source": [
    "kaggle['PredictedLogRevenue'] = y_pred_sub.astype(float)"
   ]
  },
  {
   "cell_type": "code",
   "execution_count": null,
   "metadata": {},
   "outputs": [],
   "source": []
  },
  {
   "cell_type": "code",
   "execution_count": null,
   "metadata": {},
   "outputs": [],
   "source": []
  },
  {
   "cell_type": "code",
   "execution_count": null,
   "metadata": {},
   "outputs": [],
   "source": []
  },
  {
   "cell_type": "code",
   "execution_count": null,
   "metadata": {},
   "outputs": [],
   "source": []
  },
  {
   "cell_type": "code",
   "execution_count": null,
   "metadata": {},
   "outputs": [],
   "source": [
    "# using mean value\n",
    "kaggle.loc[(kaggle.PredictedLogRevenue == 1),\n",
    "           'PredictedLogRevenue']=df_test.totals_transactionRevenue.mean()/1000000"
   ]
  },
  {
   "cell_type": "code",
   "execution_count": null,
   "metadata": {},
   "outputs": [],
   "source": []
  },
  {
   "cell_type": "code",
   "execution_count": 61,
   "metadata": {},
   "outputs": [],
   "source": [
    "# using mean value\n",
    "kaggle.loc[(kaggle.PredictedLogRevenue == 1),\n",
    "           'PredictedLogRevenue']=4"
   ]
  },
  {
   "cell_type": "code",
   "execution_count": 62,
   "metadata": {},
   "outputs": [
    {
     "data": {
      "text/html": [
       "<div>\n",
       "<style scoped>\n",
       "    .dataframe tbody tr th:only-of-type {\n",
       "        vertical-align: middle;\n",
       "    }\n",
       "\n",
       "    .dataframe tbody tr th {\n",
       "        vertical-align: top;\n",
       "    }\n",
       "\n",
       "    .dataframe thead th {\n",
       "        text-align: right;\n",
       "    }\n",
       "</style>\n",
       "<table border=\"1\" class=\"dataframe\">\n",
       "  <thead>\n",
       "    <tr style=\"text-align: right;\">\n",
       "      <th></th>\n",
       "      <th>fullVisitorId</th>\n",
       "      <th>PredictedLogRevenue</th>\n",
       "    </tr>\n",
       "  </thead>\n",
       "  <tbody>\n",
       "    <tr>\n",
       "      <th>58123</th>\n",
       "      <td>1957458976293878100</td>\n",
       "      <td>4.0</td>\n",
       "    </tr>\n",
       "    <tr>\n",
       "      <th>265957</th>\n",
       "      <td>8970780971696400173</td>\n",
       "      <td>4.0</td>\n",
       "    </tr>\n",
       "    <tr>\n",
       "      <th>274233</th>\n",
       "      <td>9249130983722228273</td>\n",
       "      <td>4.0</td>\n",
       "    </tr>\n",
       "  </tbody>\n",
       "</table>\n",
       "</div>"
      ],
      "text/plain": [
       "              fullVisitorId  PredictedLogRevenue\n",
       "58123   1957458976293878100                  4.0\n",
       "265957  8970780971696400173                  4.0\n",
       "274233  9249130983722228273                  4.0"
      ]
     },
     "execution_count": 62,
     "metadata": {},
     "output_type": "execute_result"
    }
   ],
   "source": [
    "# maybe three needles in a haystack\n",
    "kaggle.loc[kaggle['PredictedLogRevenue'] > 0]"
   ]
  },
  {
   "cell_type": "code",
   "execution_count": 63,
   "metadata": {},
   "outputs": [],
   "source": [
    "# to csv and upload\n",
    "kaggle.to_csv(\"submission_lgbm.csv\", index=False)"
   ]
  },
  {
   "cell_type": "code",
   "execution_count": null,
   "metadata": {},
   "outputs": [],
   "source": [
    "df_test.totals_transactionRevenue.mean()"
   ]
  },
  {
   "cell_type": "code",
   "execution_count": null,
   "metadata": {},
   "outputs": [],
   "source": [
    "df_test.head()"
   ]
  },
  {
   "cell_type": "code",
   "execution_count": null,
   "metadata": {},
   "outputs": [],
   "source": [
    "summe"
   ]
  }
 ],
 "metadata": {
  "kernelspec": {
   "display_name": "Python [conda env:nf] *",
   "language": "python",
   "name": "conda-env-nf-py"
  },
  "language_info": {
   "codemirror_mode": {
    "name": "ipython",
    "version": 3
   },
   "file_extension": ".py",
   "mimetype": "text/x-python",
   "name": "python",
   "nbconvert_exporter": "python",
   "pygments_lexer": "ipython3",
   "version": "3.6.10"
  },
  "toc": {
   "base_numbering": 1,
   "nav_menu": {},
   "number_sections": true,
   "sideBar": true,
   "skip_h1_title": false,
   "title_cell": "Table of Contents",
   "title_sidebar": "Contents",
   "toc_cell": false,
   "toc_position": {
    "height": "calc(100% - 180px)",
    "left": "10px",
    "top": "150px",
    "width": "320px"
   },
   "toc_section_display": true,
   "toc_window_display": true
  }
 },
 "nbformat": 4,
 "nbformat_minor": 4
}
