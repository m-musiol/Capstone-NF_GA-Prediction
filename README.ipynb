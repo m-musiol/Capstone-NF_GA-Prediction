{
 "cells": [
  {
   "cell_type": "markdown",
   "metadata": {},
   "source": [
    "# What am I predicting?\n",
    "\n",
    "We are predicting the natural log of the sum of all transactions per user in test_v2.csv for December 1st, 2018 to January 31st, 2019. \n",
    "The dataset does NOT contain data for December 1st 2018 to January 31st 2019. You must identify the unique fullVisitorIds in the provided test_v2.csv and make predictions for them for those unseen months.\n",
    "\n",
    "<math xmlns=\"http://www.w3.org/1998/Math/MathML\" display=\"block\">\n",
    "  <msub>\n",
    "    <mi>y</mi>\n",
    "    <mrow class=\"MJX-TeXAtom-ORD\">\n",
    "      <mi>u</mi>\n",
    "      <mi>s</mi>\n",
    "      <mi>e</mi>\n",
    "      <mi>r</mi>\n",
    "    </mrow>\n",
    "  </msub>\n",
    "  <mo>=</mo>\n",
    "  <munderover>\n",
    "    <mo>&#x2211;<!-- ∑ --></mo>\n",
    "    <mrow class=\"MJX-TeXAtom-ORD\">\n",
    "      <mi>i</mi>\n",
    "      <mo>=</mo>\n",
    "      <mn>1</mn>\n",
    "    </mrow>\n",
    "    <mrow class=\"MJX-TeXAtom-ORD\">\n",
    "      <mi>n</mi>\n",
    "    </mrow>\n",
    "  </munderover>\n",
    "  <mi>t</mi>\n",
    "  <mi>r</mi>\n",
    "  <mi>a</mi>\n",
    "  <mi>n</mi>\n",
    "  <mi>s</mi>\n",
    "  <mi>a</mi>\n",
    "  <mi>c</mi>\n",
    "  <mi>t</mi>\n",
    "  <mi>i</mi>\n",
    "  <mi>o</mi>\n",
    "  <msub>\n",
    "    <mi>n</mi>\n",
    "    <mrow class=\"MJX-TeXAtom-ORD\">\n",
    "      <mi>u</mi>\n",
    "      <mi>s</mi>\n",
    "      <mi>e</mi>\n",
    "      <msub>\n",
    "        <mi>r</mi>\n",
    "        <mi>i</mi>\n",
    "      </msub>\n",
    "    </mrow>\n",
    "  </msub>\n",
    "</math>\n",
    "\n",
    "y_{user} = \\sum_{i=1}^{n} transaction_{user_i}\n"
   ]
  },
  {
   "cell_type": "code",
   "execution_count": null,
   "metadata": {},
   "outputs": [],
   "source": []
  }
 ],
 "metadata": {
  "kernelspec": {
   "display_name": "Python [conda env:nf] *",
   "language": "python",
   "name": "conda-env-nf-py"
  },
  "language_info": {
   "codemirror_mode": {
    "name": "ipython",
    "version": 3
   },
   "file_extension": ".py",
   "mimetype": "text/x-python",
   "name": "python",
   "nbconvert_exporter": "python",
   "pygments_lexer": "ipython3",
   "version": "3.6.10"
  },
  "toc": {
   "base_numbering": 1,
   "nav_menu": {},
   "number_sections": true,
   "sideBar": true,
   "skip_h1_title": false,
   "title_cell": "Table of Contents",
   "title_sidebar": "Contents",
   "toc_cell": false,
   "toc_position": {},
   "toc_section_display": true,
   "toc_window_display": false
  }
 },
 "nbformat": 4,
 "nbformat_minor": 4
}
